{
 "cells": [
  {
   "cell_type": "code",
   "execution_count": 1,
   "id": "41815977-aedb-4813-9ea1-85945baf2f56",
   "metadata": {},
   "outputs": [],
   "source": [
    "import numpy as np"
   ]
  },
  {
   "cell_type": "markdown",
   "id": "02e99653-3ae6-46a8-b6ab-192a7ddfa481",
   "metadata": {},
   "source": [
    "## Data Types & Attributes"
   ]
  },
  {
   "cell_type": "code",
   "execution_count": 2,
   "id": "e3d4ec2c-7066-4d6d-a838-c79b0bc82382",
   "metadata": {},
   "outputs": [
    {
     "data": {
      "text/plain": [
       "array([1, 2, 3])"
      ]
     },
     "execution_count": 2,
     "metadata": {},
     "output_type": "execute_result"
    }
   ],
   "source": [
    "a1 = np.array([1, 2,3])\n",
    "a1"
   ]
  },
  {
   "cell_type": "code",
   "execution_count": 83,
   "id": "8e56a574-77aa-486e-a43f-9b415244dfb8",
   "metadata": {},
   "outputs": [
    {
     "data": {
      "text/plain": [
       "numpy.ndarray"
      ]
     },
     "execution_count": 83,
     "metadata": {},
     "output_type": "execute_result"
    }
   ],
   "source": [
    "type(a1)"
   ]
  },
  {
   "cell_type": "code",
   "execution_count": 3,
   "id": "c68aa4fd-cce3-4854-a419-83b87cc599be",
   "metadata": {},
   "outputs": [
    {
     "data": {
      "text/plain": [
       "array([[1. , 2. , 3.3],\n",
       "       [4. , 5. , 6.5]])"
      ]
     },
     "execution_count": 3,
     "metadata": {},
     "output_type": "execute_result"
    }
   ],
   "source": [
    "a2 = np.array([[1, 2, 3.3], [4, 5, 6.5]])\n",
    "a2"
   ]
  },
  {
   "cell_type": "code",
   "execution_count": 4,
   "id": "87beef31-1a7c-4cba-a973-cd8496b1febb",
   "metadata": {},
   "outputs": [
    {
     "data": {
      "text/plain": [
       "array([[[ 1,  2,  3],\n",
       "        [ 4,  5,  6],\n",
       "        [ 7,  8,  9]],\n",
       "\n",
       "       [[10, 11, 12],\n",
       "        [13, 14, 15],\n",
       "        [16, 17, 18]]])"
      ]
     },
     "execution_count": 4,
     "metadata": {},
     "output_type": "execute_result"
    }
   ],
   "source": [
    "a3 = np.array([[[1, 2, 3], \n",
    "               [4, 5, 6],\n",
    "               [7, 8, 9]],\n",
    "              [[10, 11, 12], \n",
    "               [13, 14, 15],\n",
    "              [16, 17 , 18]]])\n",
    "a3"
   ]
  },
  {
   "cell_type": "code",
   "execution_count": 5,
   "id": "aabf1dbb-6cce-46f4-b102-d4a78b954a6b",
   "metadata": {},
   "outputs": [
    {
     "data": {
      "text/plain": [
       "(3,)"
      ]
     },
     "execution_count": 5,
     "metadata": {},
     "output_type": "execute_result"
    }
   ],
   "source": [
    "al.shape"
   ]
  },
  {
   "cell_type": "code",
   "execution_count": 7,
   "id": "1053eefc-e44c-43b5-b9cb-87153e8d2bd1",
   "metadata": {},
   "outputs": [
    {
     "data": {
      "text/plain": [
       "(2, 3)"
      ]
     },
     "execution_count": 7,
     "metadata": {},
     "output_type": "execute_result"
    }
   ],
   "source": [
    "a2.shape"
   ]
  },
  {
   "cell_type": "code",
   "execution_count": 8,
   "id": "3f8e133d-a26a-4fb5-ad92-d0ac0b65175c",
   "metadata": {},
   "outputs": [
    {
     "data": {
      "text/plain": [
       "(2, 3, 3)"
      ]
     },
     "execution_count": 8,
     "metadata": {},
     "output_type": "execute_result"
    }
   ],
   "source": [
    "a3.shape"
   ]
  },
  {
   "cell_type": "code",
   "execution_count": 9,
   "id": "35f5220e-73d9-48b9-8135-42c4e581049a",
   "metadata": {},
   "outputs": [
    {
     "data": {
      "text/plain": [
       "1"
      ]
     },
     "execution_count": 9,
     "metadata": {},
     "output_type": "execute_result"
    }
   ],
   "source": [
    "al.ndim"
   ]
  },
  {
   "cell_type": "code",
   "execution_count": 10,
   "id": "65fae1d6-7123-4992-97c2-b26242a600c5",
   "metadata": {},
   "outputs": [
    {
     "data": {
      "text/plain": [
       "(1, 2, 3)"
      ]
     },
     "execution_count": 10,
     "metadata": {},
     "output_type": "execute_result"
    }
   ],
   "source": [
    "al.ndim, a2.ndim, a3.ndim"
   ]
  },
  {
   "cell_type": "code",
   "execution_count": 11,
   "id": "4b0044a1-f377-4360-9cb3-319014a7f93c",
   "metadata": {},
   "outputs": [
    {
     "data": {
      "text/plain": [
       "(dtype('int32'), dtype('float64'), dtype('int32'))"
      ]
     },
     "execution_count": 11,
     "metadata": {},
     "output_type": "execute_result"
    }
   ],
   "source": [
    "al.dtype, a2.dtype, a3.dtype"
   ]
  },
  {
   "cell_type": "code",
   "execution_count": 12,
   "id": "5f361062-092b-4809-93c6-5981f252e1bd",
   "metadata": {},
   "outputs": [
    {
     "data": {
      "text/plain": [
       "(3, 6, 18)"
      ]
     },
     "execution_count": 12,
     "metadata": {},
     "output_type": "execute_result"
    }
   ],
   "source": [
    "al.size, a2.size, a3.size"
   ]
  },
  {
   "cell_type": "code",
   "execution_count": 5,
   "id": "230fd3ac-776b-4936-b062-d3e767e9351d",
   "metadata": {},
   "outputs": [],
   "source": [
    "# Create a dataframe from numpy array\n",
    "import pandas as pd"
   ]
  },
  {
   "cell_type": "code",
   "execution_count": 19,
   "id": "a20dabc5-9a00-439c-8d5b-e4b182cfcbd9",
   "metadata": {},
   "outputs": [],
   "source": [
    "df = pd.DataFrame(a2)"
   ]
  },
  {
   "cell_type": "code",
   "execution_count": 23,
   "id": "a8e1f071-14c6-4161-af22-380f913cc28b",
   "metadata": {},
   "outputs": [
    {
     "data": {
      "text/html": [
       "<div>\n",
       "<style scoped>\n",
       "    .dataframe tbody tr th:only-of-type {\n",
       "        vertical-align: middle;\n",
       "    }\n",
       "\n",
       "    .dataframe tbody tr th {\n",
       "        vertical-align: top;\n",
       "    }\n",
       "\n",
       "    .dataframe thead th {\n",
       "        text-align: right;\n",
       "    }\n",
       "</style>\n",
       "<table border=\"1\" class=\"dataframe\">\n",
       "  <thead>\n",
       "    <tr style=\"text-align: right;\">\n",
       "      <th></th>\n",
       "      <th>0</th>\n",
       "      <th>1</th>\n",
       "      <th>2</th>\n",
       "    </tr>\n",
       "  </thead>\n",
       "  <tbody>\n",
       "    <tr>\n",
       "      <th>0</th>\n",
       "      <td>1.0</td>\n",
       "      <td>2.0</td>\n",
       "      <td>3.3</td>\n",
       "    </tr>\n",
       "    <tr>\n",
       "      <th>1</th>\n",
       "      <td>4.0</td>\n",
       "      <td>5.0</td>\n",
       "      <td>6.5</td>\n",
       "    </tr>\n",
       "  </tbody>\n",
       "</table>\n",
       "</div>"
      ],
      "text/plain": [
       "     0    1    2\n",
       "0  1.0  2.0  3.3\n",
       "1  4.0  5.0  6.5"
      ]
     },
     "execution_count": 23,
     "metadata": {},
     "output_type": "execute_result"
    }
   ],
   "source": [
    "df"
   ]
  },
  {
   "cell_type": "markdown",
   "id": "a4e3ec3f-63e3-49f2-9424-148b2b987847",
   "metadata": {},
   "source": [
    "## Creating Arrays"
   ]
  },
  {
   "cell_type": "code",
   "execution_count": 27,
   "id": "3a232ecb-6952-4cc1-a666-8f11ce53ed00",
   "metadata": {},
   "outputs": [
    {
     "data": {
      "text/plain": [
       "array([[[1., 1., 1.],\n",
       "        [1., 1., 1.],\n",
       "        [1., 1., 1.]],\n",
       "\n",
       "       [[1., 1., 1.],\n",
       "        [1., 1., 1.],\n",
       "        [1., 1., 1.]]])"
      ]
     },
     "execution_count": 27,
     "metadata": {},
     "output_type": "execute_result"
    }
   ],
   "source": [
    "ones = np.ones((2, 3, 3))\n",
    "ones"
   ]
  },
  {
   "cell_type": "code",
   "execution_count": 28,
   "id": "f387a536-9282-4c93-98a4-58e1ba290b38",
   "metadata": {},
   "outputs": [
    {
     "data": {
      "text/plain": [
       "dtype('float64')"
      ]
     },
     "execution_count": 28,
     "metadata": {},
     "output_type": "execute_result"
    }
   ],
   "source": [
    "ones.dtype"
   ]
  },
  {
   "cell_type": "code",
   "execution_count": 29,
   "id": "f9ac71a2-8a87-4057-9f6c-72562783c563",
   "metadata": {},
   "outputs": [
    {
     "data": {
      "text/plain": [
       "(2, 3, 3)"
      ]
     },
     "execution_count": 29,
     "metadata": {},
     "output_type": "execute_result"
    }
   ],
   "source": [
    "ones.shape"
   ]
  },
  {
   "cell_type": "code",
   "execution_count": 32,
   "id": "70a70ba3-8f3c-444b-a9f4-ab15ff56a996",
   "metadata": {},
   "outputs": [
    {
     "data": {
      "text/plain": [
       "array([[0., 0., 0.],\n",
       "       [0., 0., 0.]])"
      ]
     },
     "execution_count": 32,
     "metadata": {},
     "output_type": "execute_result"
    }
   ],
   "source": [
    "Zeros = np.zeros((2, 3))\n",
    "Zeros"
   ]
  },
  {
   "cell_type": "code",
   "execution_count": 33,
   "id": "b0e29b91-42f5-4aa2-8edc-a323fc17a76e",
   "metadata": {},
   "outputs": [
    {
     "data": {
      "text/plain": [
       "array([ 0,  2,  4,  6,  8, 10, 12, 14, 16, 18])"
      ]
     },
     "execution_count": 33,
     "metadata": {},
     "output_type": "execute_result"
    }
   ],
   "source": [
    "range_array = np.arange(0, 20, 2)\n",
    "range_array"
   ]
  },
  {
   "cell_type": "code",
   "execution_count": 34,
   "id": "85531f74-f767-472c-ab5c-664810315e5e",
   "metadata": {},
   "outputs": [
    {
     "data": {
      "text/plain": [
       "array([20, 22, 24, 26, 28, 30, 32, 34, 36, 38])"
      ]
     },
     "execution_count": 34,
     "metadata": {},
     "output_type": "execute_result"
    }
   ],
   "source": [
    "range_array_1 = np.arange(20, 40, 2)\n",
    "range_array_1"
   ]
  },
  {
   "cell_type": "code",
   "execution_count": 36,
   "id": "9d8659e1-e3cf-48fb-a43e-9369bc3f1473",
   "metadata": {},
   "outputs": [
    {
     "data": {
      "text/plain": [
       "array([[ 0,  2,  4,  6,  8, 10, 12, 14, 16, 18],\n",
       "       [20, 22, 24, 26, 28, 30, 32, 34, 36, 38]])"
      ]
     },
     "execution_count": 36,
     "metadata": {},
     "output_type": "execute_result"
    }
   ],
   "source": [
    "array = np.array([range_array, range_array_1])\n",
    "array"
   ]
  },
  {
   "cell_type": "code",
   "execution_count": 37,
   "id": "7a3a6012-2ba3-4eb5-896c-8b2af7d94b23",
   "metadata": {},
   "outputs": [],
   "source": [
    "df_1 = pd.DataFrame(array)"
   ]
  },
  {
   "cell_type": "code",
   "execution_count": 38,
   "id": "685a1ec9-55da-4f97-ae0c-8fe6e6714f68",
   "metadata": {},
   "outputs": [
    {
     "data": {
      "text/html": [
       "<div>\n",
       "<style scoped>\n",
       "    .dataframe tbody tr th:only-of-type {\n",
       "        vertical-align: middle;\n",
       "    }\n",
       "\n",
       "    .dataframe tbody tr th {\n",
       "        vertical-align: top;\n",
       "    }\n",
       "\n",
       "    .dataframe thead th {\n",
       "        text-align: right;\n",
       "    }\n",
       "</style>\n",
       "<table border=\"1\" class=\"dataframe\">\n",
       "  <thead>\n",
       "    <tr style=\"text-align: right;\">\n",
       "      <th></th>\n",
       "      <th>0</th>\n",
       "      <th>1</th>\n",
       "      <th>2</th>\n",
       "      <th>3</th>\n",
       "      <th>4</th>\n",
       "      <th>5</th>\n",
       "      <th>6</th>\n",
       "      <th>7</th>\n",
       "      <th>8</th>\n",
       "      <th>9</th>\n",
       "    </tr>\n",
       "  </thead>\n",
       "  <tbody>\n",
       "    <tr>\n",
       "      <th>0</th>\n",
       "      <td>0</td>\n",
       "      <td>2</td>\n",
       "      <td>4</td>\n",
       "      <td>6</td>\n",
       "      <td>8</td>\n",
       "      <td>10</td>\n",
       "      <td>12</td>\n",
       "      <td>14</td>\n",
       "      <td>16</td>\n",
       "      <td>18</td>\n",
       "    </tr>\n",
       "    <tr>\n",
       "      <th>1</th>\n",
       "      <td>20</td>\n",
       "      <td>22</td>\n",
       "      <td>24</td>\n",
       "      <td>26</td>\n",
       "      <td>28</td>\n",
       "      <td>30</td>\n",
       "      <td>32</td>\n",
       "      <td>34</td>\n",
       "      <td>36</td>\n",
       "      <td>38</td>\n",
       "    </tr>\n",
       "  </tbody>\n",
       "</table>\n",
       "</div>"
      ],
      "text/plain": [
       "    0   1   2   3   4   5   6   7   8   9\n",
       "0   0   2   4   6   8  10  12  14  16  18\n",
       "1  20  22  24  26  28  30  32  34  36  38"
      ]
     },
     "execution_count": 38,
     "metadata": {},
     "output_type": "execute_result"
    }
   ],
   "source": [
    "df_1"
   ]
  },
  {
   "cell_type": "code",
   "execution_count": 51,
   "id": "e688b060-0802-4684-b506-3b7cc00fa163",
   "metadata": {},
   "outputs": [
    {
     "data": {
      "text/plain": [
       "array([[ 1, 12, 16,  0, 19],\n",
       "       [ 1, 18,  8,  4,  4],\n",
       "       [ 4,  0,  0, 11,  7]])"
      ]
     },
     "execution_count": 51,
     "metadata": {},
     "output_type": "execute_result"
    }
   ],
   "source": [
    "random_array = np.random.randint(0, 20, size=(3, 5))\n",
    "random_array"
   ]
  },
  {
   "cell_type": "code",
   "execution_count": 50,
   "id": "1ce9a381-9289-442d-b162-c76dcba65760",
   "metadata": {},
   "outputs": [
    {
     "data": {
      "text/html": [
       "<div>\n",
       "<style scoped>\n",
       "    .dataframe tbody tr th:only-of-type {\n",
       "        vertical-align: middle;\n",
       "    }\n",
       "\n",
       "    .dataframe tbody tr th {\n",
       "        vertical-align: top;\n",
       "    }\n",
       "\n",
       "    .dataframe thead th {\n",
       "        text-align: right;\n",
       "    }\n",
       "</style>\n",
       "<table border=\"1\" class=\"dataframe\">\n",
       "  <thead>\n",
       "    <tr style=\"text-align: right;\">\n",
       "      <th></th>\n",
       "      <th>0</th>\n",
       "      <th>1</th>\n",
       "      <th>2</th>\n",
       "      <th>3</th>\n",
       "      <th>4</th>\n",
       "    </tr>\n",
       "  </thead>\n",
       "  <tbody>\n",
       "    <tr>\n",
       "      <th>0</th>\n",
       "      <td>15</td>\n",
       "      <td>10</td>\n",
       "      <td>13</td>\n",
       "      <td>19</td>\n",
       "      <td>13</td>\n",
       "    </tr>\n",
       "    <tr>\n",
       "      <th>1</th>\n",
       "      <td>2</td>\n",
       "      <td>12</td>\n",
       "      <td>13</td>\n",
       "      <td>0</td>\n",
       "      <td>19</td>\n",
       "    </tr>\n",
       "    <tr>\n",
       "      <th>2</th>\n",
       "      <td>8</td>\n",
       "      <td>16</td>\n",
       "      <td>19</td>\n",
       "      <td>1</td>\n",
       "      <td>11</td>\n",
       "    </tr>\n",
       "  </tbody>\n",
       "</table>\n",
       "</div>"
      ],
      "text/plain": [
       "    0   1   2   3   4\n",
       "0  15  10  13  19  13\n",
       "1   2  12  13   0  19\n",
       "2   8  16  19   1  11"
      ]
     },
     "execution_count": 50,
     "metadata": {},
     "output_type": "execute_result"
    }
   ],
   "source": [
    "df_2 = pd.DataFrame(random_array)\n",
    "df_2"
   ]
  },
  {
   "cell_type": "code",
   "execution_count": 52,
   "id": "8b0fa310-23f1-46c5-b048-1e25e2281af0",
   "metadata": {},
   "outputs": [
    {
     "data": {
      "text/plain": [
       "15"
      ]
     },
     "execution_count": 52,
     "metadata": {},
     "output_type": "execute_result"
    }
   ],
   "source": [
    "random_array.size"
   ]
  },
  {
   "cell_type": "code",
   "execution_count": 55,
   "id": "2c42c056-f020-48ed-9aec-5f116dfb2ea7",
   "metadata": {},
   "outputs": [
    {
     "data": {
      "text/plain": [
       "array([[0.15892587, 0.80300995, 0.091045  , 0.75248383, 0.10903891],\n",
       "       [0.07272637, 0.3083178 , 0.35672481, 0.3692494 , 0.6395944 ],\n",
       "       [0.37100164, 0.85243837, 0.37133657, 0.95080256, 0.98764555]])"
      ]
     },
     "execution_count": 55,
     "metadata": {},
     "output_type": "execute_result"
    }
   ],
   "source": [
    "range_array_2 = np.random.random((3, 5))\n",
    "range_array_2"
   ]
  },
  {
   "cell_type": "code",
   "execution_count": 61,
   "id": "a67f283a-e2c9-4f65-8892-fbb64fff79ab",
   "metadata": {},
   "outputs": [
    {
     "data": {
      "text/html": [
       "<div>\n",
       "<style scoped>\n",
       "    .dataframe tbody tr th:only-of-type {\n",
       "        vertical-align: middle;\n",
       "    }\n",
       "\n",
       "    .dataframe tbody tr th {\n",
       "        vertical-align: top;\n",
       "    }\n",
       "\n",
       "    .dataframe thead th {\n",
       "        text-align: right;\n",
       "    }\n",
       "</style>\n",
       "<table border=\"1\" class=\"dataframe\">\n",
       "  <thead>\n",
       "    <tr style=\"text-align: right;\">\n",
       "      <th></th>\n",
       "      <th>0</th>\n",
       "      <th>1</th>\n",
       "      <th>2</th>\n",
       "      <th>3</th>\n",
       "      <th>4</th>\n",
       "    </tr>\n",
       "  </thead>\n",
       "  <tbody>\n",
       "    <tr>\n",
       "      <th>0</th>\n",
       "      <td>0.158926</td>\n",
       "      <td>0.803010</td>\n",
       "      <td>0.091045</td>\n",
       "      <td>0.752484</td>\n",
       "      <td>0.109039</td>\n",
       "    </tr>\n",
       "    <tr>\n",
       "      <th>1</th>\n",
       "      <td>0.072726</td>\n",
       "      <td>0.308318</td>\n",
       "      <td>0.356725</td>\n",
       "      <td>0.369249</td>\n",
       "      <td>0.639594</td>\n",
       "    </tr>\n",
       "    <tr>\n",
       "      <th>2</th>\n",
       "      <td>0.371002</td>\n",
       "      <td>0.852438</td>\n",
       "      <td>0.371337</td>\n",
       "      <td>0.950803</td>\n",
       "      <td>0.987646</td>\n",
       "    </tr>\n",
       "  </tbody>\n",
       "</table>\n",
       "</div>"
      ],
      "text/plain": [
       "          0         1         2         3         4\n",
       "0  0.158926  0.803010  0.091045  0.752484  0.109039\n",
       "1  0.072726  0.308318  0.356725  0.369249  0.639594\n",
       "2  0.371002  0.852438  0.371337  0.950803  0.987646"
      ]
     },
     "execution_count": 61,
     "metadata": {},
     "output_type": "execute_result"
    }
   ],
   "source": [
    "df_3 = pd.DataFrame(range_array_2)\n",
    "df_3"
   ]
  },
  {
   "cell_type": "code",
   "execution_count": 60,
   "id": "4f456664-6dbc-49f3-b240-ceaa46cd56c5",
   "metadata": {},
   "outputs": [
    {
     "data": {
      "text/plain": [
       "array([[0.46559922, 0.57810742, 0.52480104, 0.53405899, 0.19049595],\n",
       "       [0.80759626, 0.42429486, 0.66941822, 0.13718725, 0.49132981],\n",
       "       [0.54404312, 0.07324063, 0.23456187, 0.50069144, 0.15709463],\n",
       "       [0.26585449, 0.86721251, 0.29357972, 0.45839178, 0.69033719],\n",
       "       [0.68099647, 0.85001437, 0.92055986, 0.96832183, 0.47933491]])"
      ]
     },
     "execution_count": 60,
     "metadata": {},
     "output_type": "execute_result"
    }
   ],
   "source": [
    "random_array_2 = np.random.rand(5, 5)\n",
    "random_array_2"
   ]
  },
  {
   "cell_type": "code",
   "execution_count": 10,
   "id": "0321ae8a-2053-4f3e-8e16-0aa44cfffbce",
   "metadata": {},
   "outputs": [
    {
     "data": {
      "text/plain": [
       "array([[6, 3, 7],\n",
       "       [4, 6, 9],\n",
       "       [2, 6, 7],\n",
       "       [4, 3, 7],\n",
       "       [7, 2, 5]])"
      ]
     },
     "execution_count": 10,
     "metadata": {},
     "output_type": "execute_result"
    }
   ],
   "source": [
    "# Pseudo-random numbers\n",
    "np.random.seed(seed=42)\n",
    "random_array_3 = np.random.randint(10, size=(5, 3))\n",
    "random_array_3"
   ]
  },
  {
   "cell_type": "code",
   "execution_count": 7,
   "id": "8596232b-2a6a-4367-9a96-df1572fda0c5",
   "metadata": {},
   "outputs": [],
   "source": [
    "df_4 = pd.DataFrame(random_array_3)"
   ]
  },
  {
   "cell_type": "code",
   "execution_count": 8,
   "id": "381830a2-2de5-4869-979a-070d8dc8074d",
   "metadata": {},
   "outputs": [
    {
     "data": {
      "text/html": [
       "<div>\n",
       "<style scoped>\n",
       "    .dataframe tbody tr th:only-of-type {\n",
       "        vertical-align: middle;\n",
       "    }\n",
       "\n",
       "    .dataframe tbody tr th {\n",
       "        vertical-align: top;\n",
       "    }\n",
       "\n",
       "    .dataframe thead th {\n",
       "        text-align: right;\n",
       "    }\n",
       "</style>\n",
       "<table border=\"1\" class=\"dataframe\">\n",
       "  <thead>\n",
       "    <tr style=\"text-align: right;\">\n",
       "      <th></th>\n",
       "      <th>0</th>\n",
       "      <th>1</th>\n",
       "      <th>2</th>\n",
       "    </tr>\n",
       "  </thead>\n",
       "  <tbody>\n",
       "    <tr>\n",
       "      <th>0</th>\n",
       "      <td>5</td>\n",
       "      <td>0</td>\n",
       "      <td>3</td>\n",
       "    </tr>\n",
       "    <tr>\n",
       "      <th>1</th>\n",
       "      <td>3</td>\n",
       "      <td>7</td>\n",
       "      <td>9</td>\n",
       "    </tr>\n",
       "    <tr>\n",
       "      <th>2</th>\n",
       "      <td>3</td>\n",
       "      <td>5</td>\n",
       "      <td>2</td>\n",
       "    </tr>\n",
       "    <tr>\n",
       "      <th>3</th>\n",
       "      <td>4</td>\n",
       "      <td>7</td>\n",
       "      <td>6</td>\n",
       "    </tr>\n",
       "    <tr>\n",
       "      <th>4</th>\n",
       "      <td>8</td>\n",
       "      <td>8</td>\n",
       "      <td>1</td>\n",
       "    </tr>\n",
       "  </tbody>\n",
       "</table>\n",
       "</div>"
      ],
      "text/plain": [
       "   0  1  2\n",
       "0  5  0  3\n",
       "1  3  7  9\n",
       "2  3  5  2\n",
       "3  4  7  6\n",
       "4  8  8  1"
      ]
     },
     "execution_count": 8,
     "metadata": {},
     "output_type": "execute_result"
    }
   ],
   "source": [
    "df_4"
   ]
  },
  {
   "cell_type": "code",
   "execution_count": 89,
   "id": "07d95fcc-fe81-46dd-9e99-0c569d49ef75",
   "metadata": {},
   "outputs": [
    {
     "data": {
      "text/plain": [
       "array([[0.07630829, 0.77991879, 0.43840923],\n",
       "       [0.72346518, 0.97798951, 0.53849587],\n",
       "       [0.50112046, 0.07205113, 0.26843898],\n",
       "       [0.4998825 , 0.67923   , 0.80373904],\n",
       "       [0.38094113, 0.06593635, 0.2881456 ]])"
      ]
     },
     "execution_count": 89,
     "metadata": {},
     "output_type": "execute_result"
    }
   ],
   "source": [
    "np.random.seed(seed=7)\n",
    "random_array_1 = np.random.random((5, 3))\n",
    "random_array_1"
   ]
  },
  {
   "cell_type": "markdown",
   "id": "0348bf10-9805-4e8c-bd9f-cb7077c93689",
   "metadata": {},
   "source": [
    "## 3. Viewing arrays and matrices"
   ]
  },
  {
   "cell_type": "code",
   "execution_count": 11,
   "id": "a9c6b95b-338f-4638-8303-3a89a18b2505",
   "metadata": {},
   "outputs": [
    {
     "data": {
      "text/plain": [
       "array([2, 3, 4, 5, 6, 7, 9])"
      ]
     },
     "execution_count": 11,
     "metadata": {},
     "output_type": "execute_result"
    }
   ],
   "source": [
    "np.unique(random_array_3)"
   ]
  },
  {
   "cell_type": "code",
   "execution_count": 22,
   "id": "0607641b-c000-4b70-b3b3-c67cf7dc422e",
   "metadata": {},
   "outputs": [
    {
     "data": {
      "text/plain": [
       "4.0"
      ]
     },
     "execution_count": 22,
     "metadata": {},
     "output_type": "execute_result"
    }
   ],
   "source": [
    "a2[1][0]"
   ]
  },
  {
   "cell_type": "code",
   "execution_count": 35,
   "id": "6cd29943-37ea-45d0-93b1-41fc19705491",
   "metadata": {},
   "outputs": [
    {
     "data": {
      "text/plain": [
       "array([[[ 1]],\n",
       "\n",
       "       [[10]]])"
      ]
     },
     "execution_count": 35,
     "metadata": {},
     "output_type": "execute_result"
    }
   ],
   "source": [
    "a3[:2, :1, :1]"
   ]
  },
  {
   "cell_type": "code",
   "execution_count": null,
   "id": "aeda5704-3158-4eba-8e16-78d814bcfd87",
   "metadata": {},
   "outputs": [],
   "source": []
  },
  {
   "cell_type": "code",
   "execution_count": 92,
   "id": "60739769-94a2-4291-a1cf-8680e395ac47",
   "metadata": {},
   "outputs": [
    {
     "data": {
      "text/plain": [
       "array([[[[18,  1,  9, 12,  5],\n",
       "         [11, 11, 19, 10,  6],\n",
       "         [ 0,  0, 19, 12,  8],\n",
       "         [ 2,  6,  5,  7,  8]],\n",
       "\n",
       "        [[ 4,  0, 18,  9, 11],\n",
       "         [14,  8, 19, 16, 16],\n",
       "         [19, 11,  6,  1,  2],\n",
       "         [16,  4, 16, 16, 16]],\n",
       "\n",
       "        [[ 1,  1,  4,  0,  0],\n",
       "         [18,  1, 11,  5,  3],\n",
       "         [10, 16,  5,  4, 19],\n",
       "         [ 1,  5, 10, 15, 15]]],\n",
       "\n",
       "\n",
       "       [[[ 0,  8,  5, 15,  2],\n",
       "         [19,  3, 18,  2, 18],\n",
       "         [19,  6, 19,  8,  0],\n",
       "         [ 7,  6, 17,  7,  0]],\n",
       "\n",
       "        [[10, 17,  9,  2,  6],\n",
       "         [15, 15, 19, 16,  1],\n",
       "         [ 0, 15, 11,  4,  4],\n",
       "         [ 8,  8,  2, 18, 15]],\n",
       "\n",
       "        [[15,  2, 19,  0, 19],\n",
       "         [10, 16,  7,  3,  5],\n",
       "         [ 7, 19,  2, 15,  2],\n",
       "         [17, 13, 17,  1,  2]]]])"
      ]
     },
     "execution_count": 92,
     "metadata": {},
     "output_type": "execute_result"
    }
   ],
   "source": [
    "a4 = np.random.randint(0, 20, size=(2, 3, 4, 5))\n",
    "a4"
   ]
  },
  {
   "cell_type": "code",
   "execution_count": 49,
   "id": "08f7b4f5-7144-4755-a923-dfd1a26e5661",
   "metadata": {},
   "outputs": [
    {
     "data": {
      "text/plain": [
       "array([13,  6,  8, 14])"
      ]
     },
     "execution_count": 49,
     "metadata": {},
     "output_type": "execute_result"
    }
   ],
   "source": [
    "# Get the first 4 numbers of the inner most array\n",
    "a4[1][2][0][:4]"
   ]
  },
  {
   "cell_type": "markdown",
   "id": "f0ab7655-53e7-43c5-a3ef-d81d9dc6ad43",
   "metadata": {},
   "source": [
    "## 3. Manipulating & Comparing arrays"
   ]
  },
  {
   "cell_type": "code",
   "execution_count": 50,
   "id": "04377f1a-682f-4e22-a0de-952442194080",
   "metadata": {},
   "outputs": [
    {
     "data": {
      "text/plain": [
       "array([1., 1., 1.])"
      ]
     },
     "execution_count": 50,
     "metadata": {},
     "output_type": "execute_result"
    }
   ],
   "source": [
    "ones = np.ones(3)\n",
    "ones"
   ]
  },
  {
   "cell_type": "code",
   "execution_count": 51,
   "id": "58d10482-c440-46f2-bce5-2c7cebfde64c",
   "metadata": {},
   "outputs": [
    {
     "data": {
      "text/plain": [
       "array([2., 3., 4.])"
      ]
     },
     "execution_count": 51,
     "metadata": {},
     "output_type": "execute_result"
    }
   ],
   "source": [
    "al + ones"
   ]
  },
  {
   "cell_type": "code",
   "execution_count": 52,
   "id": "053c0784-89a4-447a-abd9-22db433a2c76",
   "metadata": {},
   "outputs": [
    {
     "data": {
      "text/plain": [
       "array([0., 1., 2.])"
      ]
     },
     "execution_count": 52,
     "metadata": {},
     "output_type": "execute_result"
    }
   ],
   "source": [
    "al - ones"
   ]
  },
  {
   "cell_type": "code",
   "execution_count": 54,
   "id": "dd6602f0-a216-4358-baa8-40a7dcbf8ded",
   "metadata": {},
   "outputs": [
    {
     "data": {
      "text/plain": [
       "array([1., 2., 3.])"
      ]
     },
     "execution_count": 54,
     "metadata": {},
     "output_type": "execute_result"
    }
   ],
   "source": [
    "al * ones "
   ]
  },
  {
   "cell_type": "code",
   "execution_count": 60,
   "id": "af95970f-1022-49a2-856e-3971138740a0",
   "metadata": {},
   "outputs": [
    {
     "data": {
      "text/plain": [
       "array([[[ 10,  20,  30],\n",
       "        [ 40,  50,  60],\n",
       "        [ 70,  80,  90]],\n",
       "\n",
       "       [[100, 110, 120],\n",
       "        [130, 140, 150],\n",
       "        [160, 170, 180]]])"
      ]
     },
     "execution_count": 60,
     "metadata": {},
     "output_type": "execute_result"
    }
   ],
   "source": [
    "a3 * 10"
   ]
  },
  {
   "cell_type": "code",
   "execution_count": 61,
   "id": "ccbba9ab-c6be-4aa2-88c4-98b2c72807f5",
   "metadata": {},
   "outputs": [
    {
     "data": {
      "text/plain": [
       "array([0.5, 1. , 1.5])"
      ]
     },
     "execution_count": 61,
     "metadata": {},
     "output_type": "execute_result"
    }
   ],
   "source": [
    "al / 2"
   ]
  },
  {
   "cell_type": "code",
   "execution_count": 62,
   "id": "9616cf61-07a1-4920-88be-942700fe1031",
   "metadata": {},
   "outputs": [
    {
     "data": {
      "text/plain": [
       "array([[0.5 , 1.  , 1.65],\n",
       "       [2.  , 2.5 , 3.25]])"
      ]
     },
     "execution_count": 62,
     "metadata": {},
     "output_type": "execute_result"
    }
   ],
   "source": [
    "a2 / 2"
   ]
  },
  {
   "cell_type": "code",
   "execution_count": 67,
   "id": "9b6c206a-b242-4c54-8cd8-0f0091fa18e3",
   "metadata": {},
   "outputs": [
    {
     "data": {
      "text/plain": [
       "array([[[0, 0, 1],\n",
       "        [1, 1, 2],\n",
       "        [2, 2, 3]],\n",
       "\n",
       "       [[3, 3, 4],\n",
       "        [4, 4, 5],\n",
       "        [5, 5, 6]]], dtype=int32)"
      ]
     },
     "execution_count": 67,
     "metadata": {},
     "output_type": "execute_result"
    }
   ],
   "source": [
    "a3 // 3"
   ]
  },
  {
   "cell_type": "code",
   "execution_count": 70,
   "id": "67f706c4-0760-4ee1-be73-c84cd80ddee9",
   "metadata": {},
   "outputs": [
    {
     "data": {
      "text/plain": [
       "array([[  1.   ,   8.   ,  35.937],\n",
       "       [ 64.   , 125.   , 274.625]])"
      ]
     },
     "execution_count": 70,
     "metadata": {},
     "output_type": "execute_result"
    }
   ],
   "source": [
    "a2 ** 3"
   ]
  },
  {
   "cell_type": "code",
   "execution_count": 72,
   "id": "5f14297f-9b22-4f8b-98c3-06efdbbc354b",
   "metadata": {},
   "outputs": [
    {
     "data": {
      "text/plain": [
       "array([[[1.        , 1.41421356, 1.73205081],\n",
       "        [2.        , 2.23606798, 2.44948974],\n",
       "        [2.64575131, 2.82842712, 3.        ]],\n",
       "\n",
       "       [[3.16227766, 3.31662479, 3.46410162],\n",
       "        [3.60555128, 3.74165739, 3.87298335],\n",
       "        [4.        , 4.12310563, 4.24264069]]])"
      ]
     },
     "execution_count": 72,
     "metadata": {},
     "output_type": "execute_result"
    }
   ],
   "source": [
    "np.sqrt(a3)"
   ]
  },
  {
   "cell_type": "code",
   "execution_count": 73,
   "id": "24835032-e1f2-4987-accf-0906b6ad00bf",
   "metadata": {},
   "outputs": [
    {
     "data": {
      "text/plain": [
       "array([[2. , 4. , 6.3],\n",
       "       [5. , 7. , 9.5]])"
      ]
     },
     "execution_count": 73,
     "metadata": {},
     "output_type": "execute_result"
    }
   ],
   "source": [
    "np.add(al, a2)"
   ]
  },
  {
   "cell_type": "code",
   "execution_count": 75,
   "id": "447fb01f-1269-459d-9368-2d4c8cf1154c",
   "metadata": {},
   "outputs": [
    {
     "data": {
      "text/plain": [
       "array([[ 0., -1., -2.],\n",
       "       [ 0., -1., -2.]])"
      ]
     },
     "execution_count": 75,
     "metadata": {},
     "output_type": "execute_result"
    }
   ],
   "source": [
    "np.subtract(ones, al, a2)"
   ]
  },
  {
   "cell_type": "code",
   "execution_count": 76,
   "id": "b849686c-725e-4e50-9d56-debf6ccc3e82",
   "metadata": {},
   "outputs": [
    {
     "data": {
      "text/plain": [
       "array([2.71828183, 2.71828183, 2.71828183])"
      ]
     },
     "execution_count": 76,
     "metadata": {},
     "output_type": "execute_result"
    }
   ],
   "source": [
    "np.exp(ones)"
   ]
  },
  {
   "cell_type": "markdown",
   "id": "3f534afc-589e-4295-8fa6-cf108a415fa3",
   "metadata": {},
   "source": [
    "## Agrregation"
   ]
  },
  {
   "cell_type": "code",
   "execution_count": 79,
   "id": "27f77527-9d2f-4fef-aefe-46e50d6de4f4",
   "metadata": {},
   "outputs": [],
   "source": [
    "Doyin_list = [1, 2, 3, 4, 5]"
   ]
  },
  {
   "cell_type": "code",
   "execution_count": 80,
   "id": "424d5cf1-ce16-4887-9d38-b1d333d9837c",
   "metadata": {},
   "outputs": [
    {
     "data": {
      "text/plain": [
       "15"
      ]
     },
     "execution_count": 80,
     "metadata": {},
     "output_type": "execute_result"
    }
   ],
   "source": [
    "sum(Doyin_list)"
   ]
  },
  {
   "cell_type": "code",
   "execution_count": 88,
   "id": "565f622b-5626-4dbf-b271-7cd5e5bdcced",
   "metadata": {},
   "outputs": [
    {
     "data": {
      "text/plain": [
       "array([5. , 7. , 9.8])"
      ]
     },
     "execution_count": 88,
     "metadata": {},
     "output_type": "execute_result"
    }
   ],
   "source": [
    "sum(a2)"
   ]
  },
  {
   "cell_type": "code",
   "execution_count": 90,
   "id": "35ca5c4b-d643-429f-aa05-668d1979fb93",
   "metadata": {},
   "outputs": [
    {
     "data": {
      "text/plain": [
       "array([[[ 1,  2,  3],\n",
       "        [ 4,  5,  6],\n",
       "        [ 7,  8,  9]],\n",
       "\n",
       "       [[10, 11, 12],\n",
       "        [13, 14, 15],\n",
       "        [16, 17, 18]]])"
      ]
     },
     "execution_count": 90,
     "metadata": {},
     "output_type": "execute_result"
    }
   ],
   "source": [
    "a3"
   ]
  },
  {
   "cell_type": "code",
   "execution_count": 91,
   "id": "1870579a-1d07-460a-b430-bedfb10e39ab",
   "metadata": {},
   "outputs": [
    {
     "data": {
      "text/plain": [
       "array([[11, 13, 15],\n",
       "       [17, 19, 21],\n",
       "       [23, 25, 27]])"
      ]
     },
     "execution_count": 91,
     "metadata": {},
     "output_type": "execute_result"
    }
   ],
   "source": [
    "sum(a3)"
   ]
  },
  {
   "cell_type": "code",
   "execution_count": 93,
   "id": "206d050d-6ed9-4650-aedc-77fc168deefd",
   "metadata": {},
   "outputs": [
    {
     "data": {
      "text/plain": [
       "array([[[[18,  1,  9, 12,  5],\n",
       "         [11, 11, 19, 10,  6],\n",
       "         [ 0,  0, 19, 12,  8],\n",
       "         [ 2,  6,  5,  7,  8]],\n",
       "\n",
       "        [[ 4,  0, 18,  9, 11],\n",
       "         [14,  8, 19, 16, 16],\n",
       "         [19, 11,  6,  1,  2],\n",
       "         [16,  4, 16, 16, 16]],\n",
       "\n",
       "        [[ 1,  1,  4,  0,  0],\n",
       "         [18,  1, 11,  5,  3],\n",
       "         [10, 16,  5,  4, 19],\n",
       "         [ 1,  5, 10, 15, 15]]],\n",
       "\n",
       "\n",
       "       [[[ 0,  8,  5, 15,  2],\n",
       "         [19,  3, 18,  2, 18],\n",
       "         [19,  6, 19,  8,  0],\n",
       "         [ 7,  6, 17,  7,  0]],\n",
       "\n",
       "        [[10, 17,  9,  2,  6],\n",
       "         [15, 15, 19, 16,  1],\n",
       "         [ 0, 15, 11,  4,  4],\n",
       "         [ 8,  8,  2, 18, 15]],\n",
       "\n",
       "        [[15,  2, 19,  0, 19],\n",
       "         [10, 16,  7,  3,  5],\n",
       "         [ 7, 19,  2, 15,  2],\n",
       "         [17, 13, 17,  1,  2]]]])"
      ]
     },
     "execution_count": 93,
     "metadata": {},
     "output_type": "execute_result"
    }
   ],
   "source": [
    "a4"
   ]
  },
  {
   "cell_type": "code",
   "execution_count": 94,
   "id": "cb018237-5e17-4694-a389-1f19e70e6454",
   "metadata": {},
   "outputs": [
    {
     "data": {
      "text/plain": [
       "array([[[18,  9, 14, 27,  7],\n",
       "        [30, 14, 37, 12, 24],\n",
       "        [19,  6, 38, 20,  8],\n",
       "        [ 9, 12, 22, 14,  8]],\n",
       "\n",
       "       [[14, 17, 27, 11, 17],\n",
       "        [29, 23, 38, 32, 17],\n",
       "        [19, 26, 17,  5,  6],\n",
       "        [24, 12, 18, 34, 31]],\n",
       "\n",
       "       [[16,  3, 23,  0, 19],\n",
       "        [28, 17, 18,  8,  8],\n",
       "        [17, 35,  7, 19, 21],\n",
       "        [18, 18, 27, 16, 17]]])"
      ]
     },
     "execution_count": 94,
     "metadata": {},
     "output_type": "execute_result"
    }
   ],
   "source": [
    "sum(a4)"
   ]
  },
  {
   "cell_type": "markdown",
   "id": "b8a46952-7aad-41ec-bcbc-632b779a7fb6",
   "metadata": {},
   "source": [
    "Use Pyhton Methods (sum()) on Python dataTypes and use Numpy's methods on Numpy arrays (np.sum())"
   ]
  },
  {
   "cell_type": "code",
   "execution_count": 99,
   "id": "5673ccb0-b615-445b-a29f-a5a5c590a461",
   "metadata": {},
   "outputs": [
    {
     "data": {
      "text/plain": [
       "array([[ 80,  84,  22, ...,  40,  49, 130]])"
      ]
     },
     "execution_count": 99,
     "metadata": {},
     "output_type": "execute_result"
    }
   ],
   "source": [
    "massive_array = np.random.randint(200, size=(1, 10000))\n",
    "massive_array"
   ]
  },
  {
   "cell_type": "code",
   "execution_count": 102,
   "id": "01723e86-8452-486a-8afc-a26a78dc0c5c",
   "metadata": {},
   "outputs": [
    {
     "name": "stdout",
     "output_type": "stream",
     "text": [
      "37.8 μs ± 9.64 μs per loop (mean ± std. dev. of 7 runs, 10,000 loops each)\n",
      "32.2 μs ± 4.77 μs per loop (mean ± std. dev. of 7 runs, 10,000 loops each)\n"
     ]
    }
   ],
   "source": [
    "%timeit sum(massive_array)\n",
    "%timeit np.sum(massive_array)"
   ]
  },
  {
   "cell_type": "code",
   "execution_count": 119,
   "id": "53a058e4-b504-440a-a9ab-964827b7cf99",
   "metadata": {},
   "outputs": [],
   "source": [
    "# Demo of std and Var\n",
    "high_var_array = np.array([1, 1000, 2000, 300, 4000, 5000])\n",
    "low_var_array = np.array([1, 2, 3, 4, 5])"
   ]
  },
  {
   "cell_type": "code",
   "execution_count": 112,
   "id": "4b6d6b84-d5dc-431b-a84b-a3d59a014f6e",
   "metadata": {},
   "outputs": [
    {
     "data": {
      "text/plain": [
       "array([ 2,  4,  6,  8, 10])"
      ]
     },
     "execution_count": 112,
     "metadata": {},
     "output_type": "execute_result"
    }
   ],
   "source": [
    "low_var_array = low_var_array * 2\n",
    "low_var_array"
   ]
  },
  {
   "cell_type": "code",
   "execution_count": 121,
   "id": "82034ad2-d09e-44c6-8157-cc1284b64a8f",
   "metadata": {},
   "outputs": [
    {
     "data": {
      "text/plain": [
       "(2.0, 3478483.472222222)"
      ]
     },
     "execution_count": 121,
     "metadata": {},
     "output_type": "execute_result"
    }
   ],
   "source": [
    "np.var(low_var_array), np.var(high_var_array)"
   ]
  },
  {
   "cell_type": "code",
   "execution_count": 122,
   "id": "db1ac375-7f88-476f-92b7-e818a8783783",
   "metadata": {},
   "outputs": [
    {
     "data": {
      "text/plain": [
       "(1865.0692942146204, 1.4142135623730951)"
      ]
     },
     "execution_count": 122,
     "metadata": {},
     "output_type": "execute_result"
    }
   ],
   "source": [
    "np.std(high_var_array), np.std(low_var_array)"
   ]
  },
  {
   "cell_type": "code",
   "execution_count": 123,
   "id": "c31b5b4a-4fa2-4a96-bd0b-42dcfb48412a",
   "metadata": {},
   "outputs": [
    {
     "data": {
      "text/plain": [
       "(2050.1666666666665, 3.0)"
      ]
     },
     "execution_count": 123,
     "metadata": {},
     "output_type": "execute_result"
    }
   ],
   "source": [
    "np.mean(high_var_array), np.mean(low_var_array)"
   ]
  },
  {
   "cell_type": "code",
   "execution_count": 120,
   "id": "df3bc576-8535-489e-9b26-9d7324c6cfbc",
   "metadata": {},
   "outputs": [
    {
     "data": {
      "image/png": "[encoded data removed]",
      "text/plain": [
       "<Figure size 640x480 with 1 Axes>"
      ]
     },
     "metadata": {},
     "output_type": "display_data"
    }
   ],
   "source": [
    "%matplotlib inline\n",
    "import matplotlib.pyplot as plt\n",
    "plt.hist(high_var_array)\n",
    "plt.show()"
   ]
  },
  {
   "cell_type": "code",
   "execution_count": 118,
   "id": "59f46735-da94-438d-a1fd-a27c9a6dc647",
   "metadata": {},
   "outputs": [
    {
     "data": {
      "image/png": "[encoded data removed]",
      "text/plain": [
       "<Figure size 640x480 with 1 Axes>"
      ]
     },
     "metadata": {},
     "output_type": "display_data"
    }
   ],
   "source": [
    "plt.hist(low_var_array)\n",
    "plt.show()"
   ]
  },
  {
   "cell_type": "markdown",
   "id": "39003805-1031-4150-a821-68dc266b8026",
   "metadata": {},
   "source": [
    "## Reshaping & Transposing"
   ]
  },
  {
   "cell_type": "code",
   "execution_count": 126,
   "id": "8017e4e1-abba-4d55-8769-f19aa7e860e2",
   "metadata": {},
   "outputs": [
    {
     "data": {
      "text/plain": [
       "array([[[1. ],\n",
       "        [2. ],\n",
       "        [3.3]],\n",
       "\n",
       "       [[4. ],\n",
       "        [5. ],\n",
       "        [6.5]]])"
      ]
     },
     "execution_count": 126,
     "metadata": {},
     "output_type": "execute_result"
    }
   ],
   "source": [
    "a2_reshape = a2.reshape(2, 3, 1)\n",
    "a2_reshape"
   ]
  },
  {
   "cell_type": "code",
   "execution_count": 128,
   "id": "0f9cdfc5-a160-4873-8792-e91b80696247",
   "metadata": {},
   "outputs": [
    {
     "data": {
      "text/plain": [
       "array([[[ 1,  2,  3],\n",
       "        [ 4,  5,  6],\n",
       "        [ 7,  8,  9]],\n",
       "\n",
       "       [[10, 11, 12],\n",
       "        [13, 14, 15],\n",
       "        [16, 17, 18]]])"
      ]
     },
     "execution_count": 128,
     "metadata": {},
     "output_type": "execute_result"
    }
   ],
   "source": [
    "a3"
   ]
  },
  {
   "cell_type": "code",
   "execution_count": 129,
   "id": "8bce39c6-b268-4ccd-a0c3-a39eefbf94b5",
   "metadata": {},
   "outputs": [
    {
     "data": {
      "text/plain": [
       "array([[[  1. ,   2. ,   3. ],\n",
       "        [  8. ,  10. ,  12. ],\n",
       "        [ 23.1,  26.4,  29.7]],\n",
       "\n",
       "       [[ 40. ,  44. ,  48. ],\n",
       "        [ 65. ,  70. ,  75. ],\n",
       "        [104. , 110.5, 117. ]]])"
      ]
     },
     "execution_count": 129,
     "metadata": {},
     "output_type": "execute_result"
    }
   ],
   "source": [
    "a2_reshape * a3"
   ]
  },
  {
   "cell_type": "code",
   "execution_count": 133,
   "id": "ea479a6d-e2cd-4515-a4fa-2dadc3e2153e",
   "metadata": {},
   "outputs": [],
   "source": [
    "a3_transposed = a3.T"
   ]
  },
  {
   "cell_type": "code",
   "execution_count": 135,
   "id": "35c1e0f4-4d2e-4475-b253-0ebf7ffe913a",
   "metadata": {},
   "outputs": [
    {
     "data": {
      "text/plain": [
       "(3, 3, 2)"
      ]
     },
     "execution_count": 135,
     "metadata": {},
     "output_type": "execute_result"
    }
   ],
   "source": [
    "a3_transposed.shape"
   ]
  },
  {
   "cell_type": "code",
   "execution_count": 136,
   "id": "7aff316a-c1bd-4829-b655-2cda4c82dfe6",
   "metadata": {},
   "outputs": [
    {
     "data": {
      "text/plain": [
       "array([[[ 1, 10],\n",
       "        [ 4, 13],\n",
       "        [ 7, 16]],\n",
       "\n",
       "       [[ 2, 11],\n",
       "        [ 5, 14],\n",
       "        [ 8, 17]],\n",
       "\n",
       "       [[ 3, 12],\n",
       "        [ 6, 15],\n",
       "        [ 9, 18]]])"
      ]
     },
     "execution_count": 136,
     "metadata": {},
     "output_type": "execute_result"
    }
   ],
   "source": [
    "a3_transposed"
   ]
  },
  {
   "cell_type": "markdown",
   "id": "8b0e99bd-4601-4cf3-9bac-970b26b60513",
   "metadata": {},
   "source": [
    "## Dot Product Example (nut butter sales)"
   ]
  },
  {
   "cell_type": "code",
   "execution_count": 26,
   "id": "1d8f5473-a996-425f-ad0d-4a4ace42ab70",
   "metadata": {},
   "outputs": [
    {
     "data": {
      "text/plain": [
       "array([[12, 15,  0],\n",
       "       [ 3,  3,  7],\n",
       "       [ 9, 19, 18],\n",
       "       [ 4,  6, 12],\n",
       "       [ 1,  6,  7]])"
      ]
     },
     "execution_count": 26,
     "metadata": {},
     "output_type": "execute_result"
    }
   ],
   "source": [
    "np.random.seed(0)\n",
    "sales_amount = np.random.randint(20, size=(5, 3))\n",
    "sales_amount"
   ]
  },
  {
   "cell_type": "code",
   "execution_count": 8,
   "id": "3427e604-c415-4c5e-84e7-89af641b1faa",
   "metadata": {},
   "outputs": [
    {
     "data": {
      "text/html": [
       "<div>\n",
       "<style scoped>\n",
       "    .dataframe tbody tr th:only-of-type {\n",
       "        vertical-align: middle;\n",
       "    }\n",
       "\n",
       "    .dataframe tbody tr th {\n",
       "        vertical-align: top;\n",
       "    }\n",
       "\n",
       "    .dataframe thead th {\n",
       "        text-align: right;\n",
       "    }\n",
       "</style>\n",
       "<table border=\"1\" class=\"dataframe\">\n",
       "  <thead>\n",
       "    <tr style=\"text-align: right;\">\n",
       "      <th></th>\n",
       "      <th>Almond butter</th>\n",
       "      <th>Peanut Butter</th>\n",
       "      <th>Cashew Butter</th>\n",
       "    </tr>\n",
       "  </thead>\n",
       "  <tbody>\n",
       "    <tr>\n",
       "      <th>Mon</th>\n",
       "      <td>12</td>\n",
       "      <td>15</td>\n",
       "      <td>0</td>\n",
       "    </tr>\n",
       "    <tr>\n",
       "      <th>Tues</th>\n",
       "      <td>3</td>\n",
       "      <td>3</td>\n",
       "      <td>7</td>\n",
       "    </tr>\n",
       "    <tr>\n",
       "      <th>Wed</th>\n",
       "      <td>9</td>\n",
       "      <td>19</td>\n",
       "      <td>18</td>\n",
       "    </tr>\n",
       "    <tr>\n",
       "      <th>Thurs</th>\n",
       "      <td>4</td>\n",
       "      <td>6</td>\n",
       "      <td>12</td>\n",
       "    </tr>\n",
       "    <tr>\n",
       "      <th>Fri</th>\n",
       "      <td>1</td>\n",
       "      <td>6</td>\n",
       "      <td>7</td>\n",
       "    </tr>\n",
       "  </tbody>\n",
       "</table>\n",
       "</div>"
      ],
      "text/plain": [
       "       Almond butter  Peanut Butter  Cashew Butter\n",
       "Mon               12             15              0\n",
       "Tues               3              3              7\n",
       "Wed                9             19             18\n",
       "Thurs              4              6             12\n",
       "Fri                1              6              7"
      ]
     },
     "execution_count": 8,
     "metadata": {},
     "output_type": "execute_result"
    }
   ],
   "source": [
    "Sales_Pd = pd.DataFrame(sales_amount, \n",
    "                        index=[\"Mon\", \"Tues\", \"Wed\", \"Thurs\", \"Fri\"],\n",
    "                       columns=[\"Almond butter\", \"Peanut Butter\", \"Cashew Butter\"])\n",
    "Sales_Pd"
   ]
  },
  {
   "cell_type": "code",
   "execution_count": 21,
   "id": "1393dff8-6ff3-4a98-9ab0-0b1d55622920",
   "metadata": {},
   "outputs": [
    {
     "data": {
      "text/plain": [
       "array([10,  8, 12])"
      ]
     },
     "execution_count": 21,
     "metadata": {},
     "output_type": "execute_result"
    }
   ],
   "source": [
    "# Create Prices Array\n",
    "Prices = np.array([10, 8, 12])\n",
    "Prices"
   ]
  },
  {
   "cell_type": "code",
   "execution_count": 35,
   "id": "a40297e8-2c1d-4229-b970-33ba9300d925",
   "metadata": {},
   "outputs": [
    {
     "data": {
      "text/plain": [
       "(3,)"
      ]
     },
     "execution_count": 35,
     "metadata": {},
     "output_type": "execute_result"
    }
   ],
   "source": [
    "Prices.shape"
   ]
  },
  {
   "cell_type": "code",
   "execution_count": 25,
   "id": "9306e024-5872-4e9f-9aee-b9e70bc0eeb9",
   "metadata": {},
   "outputs": [
    {
     "data": {
      "text/html": [
       "<div>\n",
       "<style scoped>\n",
       "    .dataframe tbody tr th:only-of-type {\n",
       "        vertical-align: middle;\n",
       "    }\n",
       "\n",
       "    .dataframe tbody tr th {\n",
       "        vertical-align: top;\n",
       "    }\n",
       "\n",
       "    .dataframe thead th {\n",
       "        text-align: right;\n",
       "    }\n",
       "</style>\n",
       "<table border=\"1\" class=\"dataframe\">\n",
       "  <thead>\n",
       "    <tr style=\"text-align: right;\">\n",
       "      <th></th>\n",
       "      <th>Almond butter</th>\n",
       "      <th>Peanut Butter</th>\n",
       "      <th>Cashew Butter</th>\n",
       "    </tr>\n",
       "  </thead>\n",
       "  <tbody>\n",
       "    <tr>\n",
       "      <th>Prices</th>\n",
       "      <td>10</td>\n",
       "      <td>8</td>\n",
       "      <td>12</td>\n",
       "    </tr>\n",
       "  </tbody>\n",
       "</table>\n",
       "</div>"
      ],
      "text/plain": [
       "        Almond butter  Peanut Butter  Cashew Butter\n",
       "Prices             10              8             12"
      ]
     },
     "execution_count": 25,
     "metadata": {},
     "output_type": "execute_result"
    }
   ],
   "source": [
    "# Create Butter DataFrame\n",
    "Prices_Pd = pd.DataFrame(Prices.reshape(1, 3), \n",
    "                         index=[\"Prices\"],\n",
    "                        columns=[\"Almond butter\", \"Peanut Butter\", \"Cashew Butter\"])\n",
    "Prices_Pd"
   ]
  },
  {
   "cell_type": "code",
   "execution_count": 28,
   "id": "ea2558f9-5033-4161-9136-89d28d15193d",
   "metadata": {},
   "outputs": [
    {
     "data": {
      "text/plain": [
       "array([240, 138, 458, 232, 142])"
      ]
     },
     "execution_count": 28,
     "metadata": {},
     "output_type": "execute_result"
    }
   ],
   "source": [
    "total_sales = Prices.dot(sales_amount.T)\n",
    "total_sales"
   ]
  },
  {
   "cell_type": "code",
   "execution_count": 29,
   "id": "8c6c9495-53df-43f0-80ed-482f35c74995",
   "metadata": {},
   "outputs": [
    {
     "data": {
      "text/html": [
       "<div>\n",
       "<style scoped>\n",
       "    .dataframe tbody tr th:only-of-type {\n",
       "        vertical-align: middle;\n",
       "    }\n",
       "\n",
       "    .dataframe tbody tr th {\n",
       "        vertical-align: top;\n",
       "    }\n",
       "\n",
       "    .dataframe thead th {\n",
       "        text-align: right;\n",
       "    }\n",
       "</style>\n",
       "<table border=\"1\" class=\"dataframe\">\n",
       "  <thead>\n",
       "    <tr style=\"text-align: right;\">\n",
       "      <th></th>\n",
       "      <th>Mon</th>\n",
       "      <th>Tues</th>\n",
       "      <th>Wed</th>\n",
       "      <th>Thurs</th>\n",
       "      <th>Fri</th>\n",
       "    </tr>\n",
       "  </thead>\n",
       "  <tbody>\n",
       "    <tr>\n",
       "      <th>Prices</th>\n",
       "      <td>240</td>\n",
       "      <td>138</td>\n",
       "      <td>458</td>\n",
       "      <td>232</td>\n",
       "      <td>142</td>\n",
       "    </tr>\n",
       "  </tbody>\n",
       "</table>\n",
       "</div>"
      ],
      "text/plain": [
       "        Mon  Tues  Wed  Thurs  Fri\n",
       "Prices  240   138  458    232  142"
      ]
     },
     "execution_count": 29,
     "metadata": {},
     "output_type": "execute_result"
    }
   ],
   "source": [
    "# Create daily_sales\n",
    "Daily_sales = Prices_Pd.dot(Sales_Pd.T)\n",
    "Daily_sales"
   ]
  },
  {
   "cell_type": "code",
   "execution_count": 32,
   "id": "a43e33cc-62a7-4280-8a87-c49b6e8bb50b",
   "metadata": {},
   "outputs": [
    {
     "data": {
      "text/html": [
       "<div>\n",
       "<style scoped>\n",
       "    .dataframe tbody tr th:only-of-type {\n",
       "        vertical-align: middle;\n",
       "    }\n",
       "\n",
       "    .dataframe tbody tr th {\n",
       "        vertical-align: top;\n",
       "    }\n",
       "\n",
       "    .dataframe thead th {\n",
       "        text-align: right;\n",
       "    }\n",
       "</style>\n",
       "<table border=\"1\" class=\"dataframe\">\n",
       "  <thead>\n",
       "    <tr style=\"text-align: right;\">\n",
       "      <th></th>\n",
       "      <th>Mon</th>\n",
       "      <th>Tues</th>\n",
       "      <th>Wed</th>\n",
       "      <th>Thurs</th>\n",
       "      <th>Fri</th>\n",
       "    </tr>\n",
       "  </thead>\n",
       "  <tbody>\n",
       "    <tr>\n",
       "      <th>Prices</th>\n",
       "      <td>240</td>\n",
       "      <td>138</td>\n",
       "      <td>458</td>\n",
       "      <td>232</td>\n",
       "      <td>142</td>\n",
       "    </tr>\n",
       "  </tbody>\n",
       "</table>\n",
       "</div>"
      ],
      "text/plain": [
       "        Mon  Tues  Wed  Thurs  Fri\n",
       "Prices  240   138  458    232  142"
      ]
     },
     "execution_count": 32,
     "metadata": {},
     "output_type": "execute_result"
    }
   ],
   "source": [
    "Daily_sales"
   ]
  },
  {
   "cell_type": "code",
   "execution_count": 33,
   "id": "75dfbbaf-8d88-45df-84cd-0557310969b1",
   "metadata": {},
   "outputs": [
    {
     "data": {
      "text/plain": [
       "((5, 4), (1, 5))"
      ]
     },
     "execution_count": 33,
     "metadata": {},
     "output_type": "execute_result"
    }
   ],
   "source": [
    "Sales_Pd.shape, Daily_sales.shape"
   ]
  },
  {
   "cell_type": "code",
   "execution_count": 34,
   "id": "52716d82-9a39-4f99-b32f-15b41331f191",
   "metadata": {},
   "outputs": [
    {
     "data": {
      "text/html": [
       "<div>\n",
       "<style scoped>\n",
       "    .dataframe tbody tr th:only-of-type {\n",
       "        vertical-align: middle;\n",
       "    }\n",
       "\n",
       "    .dataframe tbody tr th {\n",
       "        vertical-align: top;\n",
       "    }\n",
       "\n",
       "    .dataframe thead th {\n",
       "        text-align: right;\n",
       "    }\n",
       "</style>\n",
       "<table border=\"1\" class=\"dataframe\">\n",
       "  <thead>\n",
       "    <tr style=\"text-align: right;\">\n",
       "      <th></th>\n",
       "      <th>Almond butter</th>\n",
       "      <th>Peanut Butter</th>\n",
       "      <th>Cashew Butter</th>\n",
       "      <th>Total ($)</th>\n",
       "    </tr>\n",
       "  </thead>\n",
       "  <tbody>\n",
       "    <tr>\n",
       "      <th>Mon</th>\n",
       "      <td>12</td>\n",
       "      <td>15</td>\n",
       "      <td>0</td>\n",
       "      <td>240</td>\n",
       "    </tr>\n",
       "    <tr>\n",
       "      <th>Tues</th>\n",
       "      <td>3</td>\n",
       "      <td>3</td>\n",
       "      <td>7</td>\n",
       "      <td>138</td>\n",
       "    </tr>\n",
       "    <tr>\n",
       "      <th>Wed</th>\n",
       "      <td>9</td>\n",
       "      <td>19</td>\n",
       "      <td>18</td>\n",
       "      <td>458</td>\n",
       "    </tr>\n",
       "    <tr>\n",
       "      <th>Thurs</th>\n",
       "      <td>4</td>\n",
       "      <td>6</td>\n",
       "      <td>12</td>\n",
       "      <td>232</td>\n",
       "    </tr>\n",
       "    <tr>\n",
       "      <th>Fri</th>\n",
       "      <td>1</td>\n",
       "      <td>6</td>\n",
       "      <td>7</td>\n",
       "      <td>142</td>\n",
       "    </tr>\n",
       "  </tbody>\n",
       "</table>\n",
       "</div>"
      ],
      "text/plain": [
       "       Almond butter  Peanut Butter  Cashew Butter  Total ($)\n",
       "Mon               12             15              0        240\n",
       "Tues               3              3              7        138\n",
       "Wed                9             19             18        458\n",
       "Thurs              4              6             12        232\n",
       "Fri                1              6              7        142"
      ]
     },
     "execution_count": 34,
     "metadata": {},
     "output_type": "execute_result"
    }
   ],
   "source": [
    "# Daily sales has to be transposed so that he can match shapes with the Sales_Pd\n",
    "Sales_Pd[\"Total ($)\"] = Daily_sales.T\n",
    "Sales_Pd"
   ]
  },
  {
   "cell_type": "code",
   "execution_count": null,
   "id": "3e9c1a1d-8a5d-4ca5-b6ec-813584dfa12b",
   "metadata": {},
   "outputs": [],
   "source": []
  }
 ],
 "metadata": {
  "kernelspec": {
   "display_name": "Python 3 (ipykernel)",
   "language": "python",
   "name": "python3"
  },
  "language_info": {
   "codemirror_mode": {
    "name": "ipython",
    "version": 3
   },
   "file_extension": ".py",
   "mimetype": "text/x-python",
   "name": "python",
   "nbconvert_exporter": "python",
   "pygments_lexer": "ipython3",
   "version": "3.12.4"
  }
 },
 "nbformat": 4,
 "nbformat_minor": 5
}
